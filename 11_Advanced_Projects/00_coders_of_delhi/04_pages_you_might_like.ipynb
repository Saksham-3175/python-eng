{
 "cells": [
  {
   "cell_type": "code",
   "execution_count": 13,
   "id": "f9984650",
   "metadata": {},
   "outputs": [],
   "source": [
    "import json\n",
    "\n",
    "#load the data\n",
    "def load_data(filename):\n",
    "    with open(filename, 'r') as f:\n",
    "        return json.load(f)\n",
    "    \n",
    "#pages you might like feature/function\n",
    "def mutual_pages(user_id, data):\n",
    "    #Dict to store user interaction with pages\n",
    "    user_pages = {}\n",
    "    for user in data['users']:\n",
    "        user_pages[user['id']]=set(user['liked_pages']) \n",
    "    print(f\"User_pages: {user_pages}\")\n",
    "\n",
    "    #Sanity Check\n",
    "    if user_id not in user_pages:\n",
    "        return []\n",
    "    \n",
    "    user_liked_pages = user_pages[user_id]\n",
    "    print(f\"Pages Liked by the User({user_id}): {user_liked_pages}\")\n",
    "\n",
    "    page_suggestions = {} #this dict stores the score(similar liked pages)\n",
    "    for other_user, pages in user_pages.items():\n",
    "        if other_user != user_id:\n",
    "            shared_pages = user_liked_pages.intersection(pages) #pages in set-> other_user liked pages\n",
    "            #shared_pages-> a set that stores the data of pages like by the current user and other users\n",
    "        for page in pages:\n",
    "            if page not in user_liked_pages:\n",
    "                page_suggestions[page] = page_suggestions.get(page, 0) + len(shared_pages)\n",
    "    print(f\"Shared pages: {shared_pages}\")\n",
    "    print(f\"Pages: {page}\")\n",
    "    print(f\"page suggestiosn: {page_suggestions}\")\n",
    "    sorted_pages = sorted(page_suggestions.items(), key=lambda x:x[1], reverse=True)\n",
    "    return [page_id for page_id, _ in sorted_pages]    \n",
    "        \n",
    "\n"
   ]
  },
  {
   "cell_type": "code",
   "execution_count": 14,
   "id": "4e9c655d",
   "metadata": {},
   "outputs": [
    {
     "name": "stdout",
     "output_type": "stream",
     "text": [
      "User_pages: {1: {101, 102}, 2: {102, 103}, 3: {101, 103}, 4: {104}, 5: {105, 102}, 6: {106}, 7: {107, 101}, 8: {108, 103}, 9: {104, 109}, 10: {110}, 11: {105, 111}, 12: {112}, 13: {113, 106}, 14: {114}, 15: {115, 107}, 16: {116}, 17: {108, 117}, 18: {118}, 19: {109, 119}, 20: {120}, 21: {121, 110}, 22: {122}, 23: {123, 111}, 24: {124}, 25: {112}, 26: {125}, 27: {113}, 28: {126}, 29: {114}, 30: {127}}\n",
      "Pages Liked by the User(2): {102, 103}\n",
      "Shared pages: set()\n",
      "Pages: 127\n",
      "page suggestiosn: {101: 2, 104: 0, 105: 1, 106: 0, 107: 0, 108: 1, 109: 0, 110: 0, 111: 0, 112: 0, 113: 0, 114: 0, 115: 0, 116: 0, 117: 0, 118: 0, 119: 0, 120: 0, 121: 0, 122: 0, 123: 0, 124: 0, 125: 0, 126: 0, 127: 0}\n",
      "[101, 105, 108, 104, 106, 107, 109, 110, 111, 112, 113, 114, 115, 116, 117, 118, 119, 120, 121, 122, 123, 124, 125, 126, 127]\n"
     ]
    }
   ],
   "source": [
    "data = load_data('massive_data.json')\n",
    "user_id = 2\n",
    "page_reccommendations = mutual_pages(user_id, data)\n",
    "print(page_reccommendations)"
   ]
  },
  {
   "cell_type": "code",
   "execution_count": null,
   "id": "50fe13d2",
   "metadata": {},
   "outputs": [],
   "source": [
    "#Filter -> score > x, then only show... \n",
    "#Display socre"
   ]
  }
 ],
 "metadata": {
  "kernelspec": {
   "display_name": "trial-error",
   "language": "python",
   "name": "python3"
  },
  "language_info": {
   "codemirror_mode": {
    "name": "ipython",
    "version": 3
   },
   "file_extension": ".py",
   "mimetype": "text/x-python",
   "name": "python",
   "nbconvert_exporter": "python",
   "pygments_lexer": "ipython3",
   "version": "3.10.12"
  }
 },
 "nbformat": 4,
 "nbformat_minor": 5
}
