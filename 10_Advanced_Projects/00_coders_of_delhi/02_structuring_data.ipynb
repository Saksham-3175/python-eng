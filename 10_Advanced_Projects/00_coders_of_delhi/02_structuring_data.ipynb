{
 "cells": [
  {
   "cell_type": "code",
   "execution_count": 1,
   "id": "18b23a99",
   "metadata": {},
   "outputs": [],
   "source": [
    "import json"
   ]
  },
  {
   "cell_type": "code",
   "execution_count": null,
   "id": "62b5bbbc",
   "metadata": {},
   "outputs": [],
   "source": [
    "#Load the data\n",
    "data = json.load(open('messy_data.json'))\n",
    "\n",
    "#clean data\n",
    "def clean_data(data):\n",
    "    \n",
    "    #remove users with missing names\n",
    "    data['users'] = [user for user in data['users'] if user['name'].strip()]\n",
    "    \n",
    "    #remove duplicate friends\n",
    "    for user in data[\"users\"]:\n",
    "        user[\"friends\"] = list(set(user[\"friends\"])) #converted to set so that duplicates are removed\n",
    "    \n",
    "    #remove inactive users\n",
    "    data[\"users\"] = [user for user in data[\"users\"] if user[\"friends\"] or user[\"liked_pages\"]]\n",
    "    \n",
    "    #remove duplicate pages\n",
    "    unique_pages = {}\n",
    "    for page in pages\n",
    "    \n",
    "    \n",
    "    \n",
    "    return data\n",
    "\n",
    "\n",
    "data = clean_data(data)\n"
   ]
  },
  {
   "cell_type": "code",
   "execution_count": 8,
   "id": "c28a1dd4",
   "metadata": {},
   "outputs": [
    {
     "data": {
      "text/plain": [
       "{'users': [{'id': 1, 'name': 'Amit', 'friends': [2, 3], 'liked_pages': [101]},\n",
       "  {'id': 2, 'name': 'Priya', 'friends': [1, 4], 'liked_pages': [102]},\n",
       "  {'id': 4, 'name': 'Sara', 'friends': [2], 'liked_pages': [104]}],\n",
       " 'pages': [{'id': 1, 'name': 'Python Devs'},\n",
       "  {'id': 2, 'name': 'DS Enthusiasts'},\n",
       "  {'id': 3, 'name': 'AIML Community'},\n",
       "  {'id': 4, 'name': 'Web Dev Hub'},\n",
       "  {'id': 4, 'name': 'Web Dev'}]}"
      ]
     },
     "execution_count": 8,
     "metadata": {},
     "output_type": "execute_result"
    }
   ],
   "source": [
    "data"
   ]
  },
  {
   "cell_type": "code",
   "execution_count": 6,
   "id": "a2b24358",
   "metadata": {},
   "outputs": [
    {
     "name": "stdout",
     "output_type": "stream",
     "text": [
      "Data was cleaned and uploaded successfully\n"
     ]
    }
   ],
   "source": [
    "\n",
    "upload = json.dump(data, open(\"cleaned_data.json\", \"w\"), indent=4)\n",
    "print(\"Data was cleaned and uploaded successfully\")"
   ]
  },
  {
   "cell_type": "code",
   "execution_count": null,
   "id": "81b0e23d",
   "metadata": {},
   "outputs": [],
   "source": [
    "#People You May Know feature\n",
    "\n"
   ]
  }
 ],
 "metadata": {
  "kernelspec": {
   "display_name": "trial-error",
   "language": "python",
   "name": "python3"
  },
  "language_info": {
   "codemirror_mode": {
    "name": "ipython",
    "version": 3
   },
   "file_extension": ".py",
   "mimetype": "text/x-python",
   "name": "python",
   "nbconvert_exporter": "python",
   "pygments_lexer": "ipython3",
   "version": "3.10.12"
  }
 },
 "nbformat": 4,
 "nbformat_minor": 5
}
