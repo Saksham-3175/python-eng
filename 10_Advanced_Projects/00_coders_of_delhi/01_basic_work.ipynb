{
 "cells": [
  {
   "cell_type": "code",
   "execution_count": 3,
   "id": "c8c85fbf",
   "metadata": {},
   "outputs": [],
   "source": [
    "import json"
   ]
  },
  {
   "cell_type": "code",
   "execution_count": 6,
   "id": "746619f8",
   "metadata": {},
   "outputs": [],
   "source": [
    "#loading data\n",
    "def load_data(filename):\n",
    "    with open(filename, 'r') as f:\n",
    "        data = json.load(f)\n",
    "    return data"
   ]
  },
  {
   "cell_type": "code",
   "execution_count": 7,
   "id": "5bbecbfb",
   "metadata": {},
   "outputs": [],
   "source": [
    "data = load_data('data.json')"
   ]
  },
  {
   "cell_type": "code",
   "execution_count": 10,
   "id": "0237afb7",
   "metadata": {},
   "outputs": [
    {
     "data": {
      "text/plain": [
       "{'users': [{'id': 1, 'name': 'Amit', 'friends': [2, 3], 'liked_pages': [101]},\n",
       "  {'id': 2, 'name': 'Priya', 'friends': [1, 4], 'liked_pages': [102]},\n",
       "  {'id': 3, 'name': 'Rahul', 'friends': [1], 'liked_pages': [101, 103]},\n",
       "  {'id': 4, 'name': 'Sara', 'friends': [2], 'liked_pages': [101]}],\n",
       " 'pages': [{'id': 101, 'name': 'Python Developers'},\n",
       "  {'id': 102, 'name': 'Data Science Enthusiasts'},\n",
       "  {'id': 103, 'name': 'AIML Community'},\n",
       "  {'id': 104, 'name': 'Web Dev Hub'}]}"
      ]
     },
     "execution_count": 10,
     "metadata": {},
     "output_type": "execute_result"
    }
   ],
   "source": [
    "data\n",
    "# print(type(data))"
   ]
  },
  {
   "cell_type": "code",
   "execution_count": 21,
   "id": "4a480b47",
   "metadata": {},
   "outputs": [],
   "source": [
    "#User info(connections and pages liked)\n",
    "def display_users(data):\n",
    "    print(\"Users and their connection\\n\")\n",
    "    for user in data['users']:\n",
    "        print(f\"{user['name']} is friends with: {user['friends']} and like pages are {user['liked_pages']}\")\n",
    "    \n",
    "    print(\"\\nPages Information\")\n",
    "    for page in data['pages']:\n",
    "        print(f\"{page['id']}: {page['name']}\")\n"
   ]
  },
  {
   "cell_type": "code",
   "execution_count": 22,
   "id": "47363b59",
   "metadata": {},
   "outputs": [
    {
     "name": "stdout",
     "output_type": "stream",
     "text": [
      "Users and their connection\n",
      "\n",
      "Amit is friends with: [2, 3] and like pages are [101]\n",
      "Priya is friends with: [1, 4] and like pages are [102]\n",
      "Rahul is friends with: [1] and like pages are [101, 103]\n",
      "Sara is friends with: [2] and like pages are [101]\n",
      "\n",
      "Pages Information\n",
      "101: Python Developers\n",
      "102: Data Science Enthusiasts\n",
      "103: AIML Community\n",
      "104: Web Dev Hub\n"
     ]
    }
   ],
   "source": [
    "display_users(data)"
   ]
  }
 ],
 "metadata": {
  "kernelspec": {
   "display_name": "trial-error",
   "language": "python",
   "name": "python3"
  },
  "language_info": {
   "codemirror_mode": {
    "name": "ipython",
    "version": 3
   },
   "file_extension": ".py",
   "mimetype": "text/x-python",
   "name": "python",
   "nbconvert_exporter": "python",
   "pygments_lexer": "ipython3",
   "version": "3.10.12"
  }
 },
 "nbformat": 4,
 "nbformat_minor": 5
}
